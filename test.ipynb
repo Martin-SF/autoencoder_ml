{
 "cells": [
  {
   "cell_type": "code",
   "execution_count": 2,
   "metadata": {},
   "outputs": [
    {
     "name": "stdout",
     "output_type": "stream",
     "text": [
      "estimated time = 28.3 h (100 sets)\n"
     ]
    },
    {
     "data": {
      "text/plain": [
       "<list_reverseiterator at 0x7fa62c33d670>"
      ]
     },
     "execution_count": 2,
     "metadata": {},
     "output_type": "execute_result"
    }
   ],
   "source": [
    "param_space = {'compression_ratio' : [0.1, 0.2, 0.3, 0.4],\n",
    "               'numDense' : [3, 4, 5, 6],\n",
    "               'numConv' : [8, 16],\n",
    "               'numConvLayer' : [0, 1, 2]}\n",
    "\n",
    "\n",
    "param_space = {'compression_ratio' : [0.2],\n",
    "               'numDense' : [2, 3, 4, 5, 6],\n",
    "               'numConv' : [8, 16, 24, 32],\n",
    "               'numConvLayer' : [0, 1, 2, 3, 4]}\n",
    "\n",
    "\n",
    "\n",
    "# param_space = {'compression_ratio' : np.linspace(0.1,0.9,2),\n",
    "#                'numDense' : [2, 3],\n",
    "#                'numConv' : [8, 6],\n",
    "#                'numConvLayer' : np.linspace(0.1,0.2,2)} # small 1\n",
    "# param_space = {'compression_ratio' : [0.1, 0.2],\n",
    "#                'numDense' : [3,4],\n",
    "#                'numConv' : [4, 8],\n",
    "#                'numConvLayer' : [0, 1]} # small 2\n",
    "\n",
    "numHyperTrainSongs = 100\n",
    "\n",
    "numHyperEpochs = 1\n",
    "\n",
    "import itertools\n",
    "\n",
    "value_combis = itertools.product(*[v for v in param_space.values()])\n",
    "param_combis = []\n",
    "for combi in value_combis:\n",
    "    param_combi = {key: value for key, value in zip(param_space.keys(), combi)}\n",
    "    if param_combi['numConvLayer'] == 0:\n",
    "      param_combi['numConv'] = 0\n",
    "    param_combis.append(param_combi)\n",
    "\n",
    "time_per_combi = 2.6\n",
    "time_per_combi = 17\n",
    "print(f'estimated time = {time_per_combi*len(param_combis)/60:.1f} h ({len(param_combis)} sets)')\n",
    "# param_combis = param_combis[-1:]\n",
    "param_combis = reversed(param_combis)\n",
    "\n",
    "param_combis"
   ]
  },
  {
   "cell_type": "code",
   "execution_count": 7,
   "metadata": {},
   "outputs": [
    {
     "ename": "AttributeError",
     "evalue": "'numpy.ndarray' object has no attribute 'type'",
     "output_type": "error",
     "traceback": [
      "\u001b[0;31m---------------------------------------------------------------------------\u001b[0m",
      "\u001b[0;31mAttributeError\u001b[0m                            Traceback (most recent call last)",
      "Cell \u001b[0;32mIn[7], line 13\u001b[0m\n\u001b[1;32m     10\u001b[0m Xtrain\u001b[39m.\u001b[39mappend(Xtrain2)\n\u001b[1;32m     11\u001b[0m Xtrain \u001b[39m=\u001b[39m np\u001b[39m.\u001b[39mvstack(Xtrain)\n\u001b[0;32m---> 13\u001b[0m \u001b[39mprint\u001b[39m(Xtrain\u001b[39m.\u001b[39;49mtype)\n\u001b[1;32m     15\u001b[0m \u001b[39m#   Xval = []\u001b[39;00m\n\u001b[1;32m     16\u001b[0m \u001b[39m#   numHyperTrainSongs = 2\u001b[39;00m\n\u001b[1;32m     17\u001b[0m \u001b[39m#   for filename_train in tqdm(filename_random[:numHyperTrainSongs]):\u001b[39;00m\n\u001b[0;32m   (...)\u001b[0m\n\u001b[1;32m     23\u001b[0m \u001b[39m#   Xtrain_stack = np.vstack(Xtrain)\u001b[39;00m\n\u001b[1;32m     24\u001b[0m \u001b[39m#   Xval_stack = np.vstack(Xval)\u001b[39;00m\n",
      "\u001b[0;31mAttributeError\u001b[0m: 'numpy.ndarray' object has no attribute 'type'"
     ]
    }
   ],
   "source": [
    "import numpy as np\n",
    "\n",
    "Xtrain = [[5,5,5,5],\n",
    "            [7,7,7,7]]\n",
    "Xtrain2 = [[11,11,11,11],\n",
    "        [14,14,14,14]]\n",
    "Xtrain3 = [[21,21,21],\n",
    "            [23,23,23]]\n",
    "\n",
    "Xtrain.append(Xtrain2)\n",
    "Xtrain = np.vstack(Xtrain)\n",
    "\n",
    "print(Xtrain.type)\n",
    "\n",
    "#   Xval = []\n",
    "#   numHyperTrainSongs = 2\n",
    "#   for filename_train in tqdm(filename_random[:numHyperTrainSongs]):\n",
    "#       Xt, Xv = loadSongCut(filename_train)\n",
    "#       Xtrain.append(Xt)\n",
    "#       Xval.append(Xv)\n",
    "\n",
    "#   print('done')\n",
    "#   Xtrain_stack = np.vstack(Xtrain)\n",
    "#   Xval_stack = np.vstack(Xval)\n"
   ]
  }
 ],
 "metadata": {
  "kernelspec": {
   "display_name": "tf",
   "language": "python",
   "name": "python3"
  },
  "language_info": {
   "codemirror_mode": {
    "name": "ipython",
    "version": 3
   },
   "file_extension": ".py",
   "mimetype": "text/x-python",
   "name": "python",
   "nbconvert_exporter": "python",
   "pygments_lexer": "ipython3",
   "version": "3.9.17"
  },
  "orig_nbformat": 4
 },
 "nbformat": 4,
 "nbformat_minor": 2
}
