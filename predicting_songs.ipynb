{
 "cells": [
  {
   "cell_type": "code",
   "execution_count": 1,
   "metadata": {},
   "outputs": [
    {
     "name": "stderr",
     "output_type": "stream",
     "text": [
      "2023-07-15 23:49:58.157821: I tensorflow/core/platform/cpu_feature_guard.cc:182] This TensorFlow binary is optimized to use available CPU instructions in performance-critical operations.\n",
      "To enable the following instructions: AVX2 FMA, in other operations, rebuild TensorFlow with the appropriate compiler flags.\n"
     ]
    }
   ],
   "source": [
    "import numpy as np\n",
    "import matplotlib.pyplot as plt\n",
    "import os\n",
    "# import tensorrt\n",
    "#ImportError: Python version mismatch: module was compiled for Python 3.10, but the interpreter version is incompatible: 3.9.17 (main, Jul  5 2023, 20:41:20) \n",
    "#[GCC 11.2.0].\n",
    "# print(tf.__file__)\n",
    "# import os\n",
    "# print(os.environ['LD_LIBRARY_PATH'])\n",
    "from tensorflow.keras.layers import Input, Dense,Conv1D, MaxPooling1D, UpSampling1D, Flatten, Reshape\n",
    "from tensorflow.keras.models import Model\n",
    "from tensorflow.keras.utils import get_custom_objects\n",
    "from tensorflow.keras import backend as K\n",
    "from tensorflow.python.ops import math_ops\n",
    "from tensorflow.keras import regularizers\n",
    "from tensorflow.keras.optimizers import Adam\n",
    "from tensorflow.keras.callbacks import LearningRateScheduler\n",
    "from sklearn.model_selection import train_test_split\n",
    "from sklearn.preprocessing import MinMaxScaler\n",
    "import tensorflow as tf\n",
    "from tqdm import tqdm\n",
    "from scipy.io import wavfile\n",
    "import random\n",
    "import itertools\n",
    "import json\n",
    "# from google.colab import drive"
   ]
  },
  {
   "cell_type": "code",
   "execution_count": 3,
   "metadata": {},
   "outputs": [
    {
     "ename": "SyntaxError",
     "evalue": "invalid syntax (1017724399.py, line 2)",
     "output_type": "error",
     "traceback": [
      "\u001b[0;36m  Cell \u001b[0;32mIn[3], line 2\u001b[0;36m\u001b[0m\n\u001b[0;31m    from Autoencoder_metric(1)_restart import *\u001b[0m\n\u001b[0m                           ^\u001b[0m\n\u001b[0;31mSyntaxError\u001b[0m\u001b[0;31m:\u001b[0m invalid syntax\n"
     ]
    }
   ],
   "source": [
    "import import_ipynb\n",
    "from \"Autoencoder_metric(1)_restart\" import *\n",
    "\n",
    "# hyperparameter_Plot(results, output_folder)\n",
    "output_folder = \"output/Versuch3_13.07.2023/\"\n",
    "model_save_path = output_folder + 'hyperparamsearch/' + f'model_train.keras'\n",
    "autoencoder = tf.keras.models.load_model(model_save_path)\n",
    "\n",
    "pdfname = f'BestSet, compression_ratio ={c:.1f}.pdf'\n",
    "plot_history(histories, output_folder + 'train_compression_rates/' + pdfname)\n",
    "plotWave(autoencoder, f'{output_folder}train_compression_rates/modelCompressionRate:{c:.1f}wave_', c)\n",
    "\n",
    "autoencoder.save(f'{output_folder}train_compression_rates/modelCompressionRate:{c:.1f}.keras')\n",
    "testPerformance = evaluateTestSongs(autoencoder, num = 1)"
   ]
  }
 ],
 "metadata": {
  "kernelspec": {
   "display_name": "tf",
   "language": "python",
   "name": "python3"
  },
  "language_info": {
   "codemirror_mode": {
    "name": "ipython",
    "version": 3
   },
   "file_extension": ".py",
   "mimetype": "text/x-python",
   "name": "python",
   "nbconvert_exporter": "python",
   "pygments_lexer": "ipython3",
   "version": "3.9.17"
  },
  "orig_nbformat": 4
 },
 "nbformat": 4,
 "nbformat_minor": 2
}
