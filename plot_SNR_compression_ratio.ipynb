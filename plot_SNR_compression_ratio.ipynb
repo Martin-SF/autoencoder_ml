{
 "cells": [
  {
   "cell_type": "code",
   "execution_count": 6,
   "metadata": {},
   "outputs": [
    {
     "name": "stdout",
     "output_type": "stream",
     "text": [
      "+-------------------+----------------------+\n",
      "| Compression Ratio | Mean of Third Column |\n",
      "+-------------------+----------------------+\n",
      "|        0.1        |         27.5         |\n",
      "|        0.2        |         31.7         |\n",
      "|        0.3        |         32.7         |\n",
      "|        0.4        |         32.9         |\n",
      "|        0.5        |         34.7         |\n",
      "|        0.6        |         33.3         |\n",
      "|        0.7        |         33.6         |\n",
      "|        0.8        |         34.7         |\n",
      "|        0.9        |         35.5         |\n",
      "+-------------------+----------------------+\n"
     ]
    },
    {
     "data": {
      "image/png": "[encoded data removed]",
      "text/plain": [
       "<Figure size 640x480 with 1 Axes>"
      ]
     },
     "metadata": {},
     "output_type": "display_data"
    }
   ],
   "source": [
    "import csv\n",
    "import os\n",
    "import numpy as np\n",
    "from prettytable import PrettyTable\n",
    "import matplotlib.pyplot as plt\n",
    "import seaborn as sns\n",
    "\n",
    "inpathOut = \"/home/martin/martin_user_data/jupyter_notebooks/autoencoder_ml/outputpdf/erster/\"\n",
    "inpathOut = \"/home/martin/martin_user_data/jupyter_notebooks/autoencoder_ml/output/Versuch1_11.07.2023/\"\n",
    "fileNames = [filename for filename in os.listdir(inpathOut) if filename.endswith(\".csv\")]\n",
    "\n",
    "results = []\n",
    "for filename in fileNames:\n",
    "    compression_ratio = float(filename.split(\":\")[1].split(\"Performance.csv\")[0])\n",
    "    mean_list = []\n",
    "    with open(inpathOut + filename, \"r\") as file:\n",
    "        csv_reader = csv.reader(file)\n",
    "        for row in csv_reader:\n",
    "            third_column_value = float(row[2])\n",
    "            mean_list.append(third_column_value)\n",
    "\n",
    "    mean = round(sum(mean_list) / len(mean_list), 1)\n",
    "    results.append([compression_ratio, mean])\n",
    "\n",
    "results = np.array(sorted(results, key=lambda x: x[0]))  # Sort based on compression ratio\n",
    "\n",
    "table = PrettyTable()\n",
    "table.field_names = [\"Compression Ratio\", \"Mean of Third Column\"]\n",
    "for result in results:\n",
    "    table.add_row(result)\n",
    "\n",
    "print(table)\n",
    "\n",
    "x = results[:, 0]\n",
    "y = results[:, 1]\n",
    "\n",
    "plt.plot(results[:,0], results[:,1])\n",
    "plt.xlabel(\"Compression Ratio\")\n",
    "plt.ylabel(\"SI-SNR\")\n",
    "plt.title(\"Performance of models\")\n",
    "plt.show()\n"
   ]
  },
  {
   "cell_type": "code",
   "execution_count": 11,
   "metadata": {},
   "outputs": [
    {
     "ename": "SyntaxError",
     "evalue": "invalid syntax (3718647339.py, line 1)",
     "output_type": "error",
     "traceback": [
      "\u001b[0;36m  Cell \u001b[0;32mIn[11], line 1\u001b[0;36m\u001b[0m\n\u001b[0;31m    pip install librosa\u001b[0m\n\u001b[0m        ^\u001b[0m\n\u001b[0;31mSyntaxError\u001b[0m\u001b[0;31m:\u001b[0m invalid syntax\n"
     ]
    }
   ],
   "source": [
    "pip install librosa\n",
    "# pip install numpy==1.24"
   ]
  },
  {
   "cell_type": "code",
   "execution_count": 7,
   "metadata": {},
   "outputs": [
    {
     "ename": "ModuleNotFoundError",
     "evalue": "No module named 'librosa'",
     "output_type": "error",
     "traceback": [
      "\u001b[0;31m---------------------------------------------------------------------------\u001b[0m",
      "\u001b[0;31mModuleNotFoundError\u001b[0m                       Traceback (most recent call last)",
      "Cell \u001b[0;32mIn[7], line 2\u001b[0m\n\u001b[1;32m      1\u001b[0m \u001b[39mimport\u001b[39;00m \u001b[39mnumpy\u001b[39;00m \u001b[39mas\u001b[39;00m \u001b[39mnp\u001b[39;00m\n\u001b[0;32m----> 2\u001b[0m \u001b[39mimport\u001b[39;00m \u001b[39mlibrosa\u001b[39;00m\n\u001b[1;32m      3\u001b[0m \u001b[39mfrom\u001b[39;00m \u001b[39mscipy\u001b[39;00m\u001b[39m.\u001b[39;00m\u001b[39mio\u001b[39;00m \u001b[39mimport\u001b[39;00m wavfile\n\u001b[1;32m      5\u001b[0m \u001b[39mdef\u001b[39;00m \u001b[39mcalculate_sisnr\u001b[39m(audio_path):\n\u001b[1;32m      6\u001b[0m     \u001b[39m# Load mp3 file\u001b[39;00m\n",
      "\u001b[0;31mModuleNotFoundError\u001b[0m: No module named 'librosa'"
     ]
    }
   ],
   "source": [
    "import numpy as np\n",
    "import librosa\n",
    "from scipy.io import wavfile\n",
    "\n",
    "def calculate_sisnr(audio_path):\n",
    "    # Load mp3 file\n",
    "    estimate, _ = librosa.load(audio_path, sr=44100)\n",
    "\n",
    "    # Split stereo audio to mono if needed\n",
    "    if len(estimate.shape) > 1:\n",
    "        estimate = estimate.mean(axis=1)\n",
    "    \n",
    "    # Load wav file\n",
    "    fs, data = wavfile.read('2678_ps10_01.wav')\n",
    "    if data.ndim > 1:\n",
    "        mono_data = np.mean(data, axis=1)\n",
    "    else:\n",
    "        mono_data = data\n",
    "    original = mono_data.astype('float32')\n",
    "\n",
    "    # mp3 has some overhead in samplesize, this corrects\n",
    "    estimate = estimate[:-3]\n",
    "\n",
    "    # target and estimate are arrays of shape (batch_size, time_steps)\n",
    "    # compute the dot product of target and estimate along the time axis\n",
    "    dot = np.sum(original * estimate, axis=-1, keepdims=True)\n",
    "    # compute the energy of target along the time axis\n",
    "    denominator = np.sum(original ** 2, axis=-1, keepdims=True)\n",
    "    # compute the scaled target\n",
    "    scaled_target = dot * original / denominator\n",
    "    # compute the noise\n",
    "    e_noise = estimate - scaled_target\n",
    "    # compute the SI-SNR in decibels\n",
    "    si_snr = 10 * np.log10(np.sum(scaled_target ** 2, axis=-1) / np.sum(e_noise ** 2, axis=-1))\n",
    "    # return the SI-SNR array of shape (batch_size,)\n",
    "    return si_snr\n",
    "\n",
    "# List of MP3 file paths\n",
    "\n",
    "inpathOut = \"/home/martin/martin_user_data/jupyter_notebooks/autoencoder_ml/\"\n",
    "mp3_files = [filename for filename in os.listdir(inpathOut) if filename.endswith(\".mp3\")]\n",
    "\n",
    "# Calculate SI-SNR for each MP3 file\n",
    "results_snr = []\n",
    "for file in mp3_files:\n",
    "    sisnr = calculate_sisnr(file)\n",
    "    bitrate = float(file.split(\"01_\")[1].split(\".mp3\")[0])\n",
    "    compression_ratio = bitrate/707\n",
    "\n",
    "    results_snr.append([compression_ratio, sisnr])\n",
    "\n",
    "# results_snr = np.array(results_snr)\n",
    "results_snr = np.array(sorted(results_snr, key=lambda x: x[0]))  # Sort based on compression ratio\n",
    "\n",
    "# Print the SI-SNR results\n",
    "# for i, sisnr in enumerate(results_snr):\n",
    "#     print(f\"SI-SNR for file {mp3_files[i]}: {sisnr[1]} SI-SNR\")\n",
    "\n",
    "# results_snr, results\n",
    "\n",
    "plt.plot(results[:,0], results[:,1], label='Autoencoder', color='red')\n",
    "plt.plot(results_snr[:,0], results_snr[:,1], label='.mp3', color='green', linestyle='--')\n",
    "plt.axvline(x=10/32.2, color='blue', linestyle='--', label='.flac')\n",
    "plt.axvline(x=27.3/32.2, color='orange', linestyle='--', label='.zip')\n",
    "plt.xlabel(\"Compression Ratio\")\n",
    "plt.ylabel(\"SI-SNR\")\n",
    "plt.title(\"Comparison with alternatives\")\n",
    "# plt.xscale(\"log\")\n",
    "# plt.yscale(\"log\")\n",
    "xticks = np.linspace(0, 1, 11)\n",
    "# yticks = [0.1, 0.2, 0.3, 0.4, 0.5, 0.6]  # Add more values if needed\n",
    "plt.xticks(xticks)\n",
    "plt.legend()\n",
    "plt.savefig(\"SI-SNR_Comparison_all.pdf\")\n",
    "\n",
    "plt.show()\n"
   ]
  }
 ],
 "metadata": {
  "kernelspec": {
   "display_name": "tf",
   "language": "python",
   "name": "python3"
  },
  "language_info": {
   "codemirror_mode": {
    "name": "ipython",
    "version": 3
   },
   "file_extension": ".py",
   "mimetype": "text/x-python",
   "name": "python",
   "nbconvert_exporter": "python",
   "pygments_lexer": "ipython3",
   "version": "3.9.17"
  },
  "orig_nbformat": 4
 },
 "nbformat": 4,
 "nbformat_minor": 2
}
